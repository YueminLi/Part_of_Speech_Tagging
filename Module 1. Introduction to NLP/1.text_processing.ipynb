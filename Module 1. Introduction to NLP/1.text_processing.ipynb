{
 "cells": [
  {
   "cell_type": "markdown",
   "metadata": {},
   "source": [
    "# Text Processing\n",
    "\n",
    "## Capturing Text Data\n",
    "\n",
    "### Plain Text"
   ]
  },
  {
   "cell_type": "code",
   "execution_count": 1,
   "metadata": {},
   "outputs": [
    {
     "name": "stdout",
     "output_type": "stream",
     "text": [
      "Hieroglyphic writing dates from c. 3000 BC, and is composed of hundreds of symbols. A hieroglyph can represent a word, a sound, or a silent determinative; and the same symbol can serve different purposes in different contexts. Hieroglyphs were a formal script, used on stone monuments and in tombs, that could be as detailed as individual works of art.\n",
      "\n"
     ]
    }
   ],
   "source": [
    "import os\n",
    "\n",
    "# Read in a plain text file\n",
    "with open(os.path.join(\"data\", \"hieroglyph.txt\"), \"r\") as f:\n",
    "    text = f.read()\n",
    "    print(text)"
   ]
  },
  {
   "cell_type": "markdown",
   "metadata": {},
   "source": [
    "### Tabular Data"
   ]
  },
  {
   "cell_type": "code",
   "execution_count": 2,
   "metadata": {
    "scrolled": true
   },
   "outputs": [
    {
     "data": {
      "text/html": [
       "<div>\n",
       "<style scoped>\n",
       "    .dataframe tbody tr th:only-of-type {\n",
       "        vertical-align: middle;\n",
       "    }\n",
       "\n",
       "    .dataframe tbody tr th {\n",
       "        vertical-align: top;\n",
       "    }\n",
       "\n",
       "    .dataframe thead th {\n",
       "        text-align: right;\n",
       "    }\n",
       "</style>\n",
       "<table border=\"1\" class=\"dataframe\">\n",
       "  <thead>\n",
       "    <tr style=\"text-align: right;\">\n",
       "      <th></th>\n",
       "      <th>publisher</th>\n",
       "      <th>title</th>\n",
       "    </tr>\n",
       "  </thead>\n",
       "  <tbody>\n",
       "    <tr>\n",
       "      <th>0</th>\n",
       "      <td>Livemint</td>\n",
       "      <td>fed's charles plosser sees high bar for change...</td>\n",
       "    </tr>\n",
       "    <tr>\n",
       "      <th>1</th>\n",
       "      <td>IFA Magazine</td>\n",
       "      <td>us open: stocks fall after fed official hints ...</td>\n",
       "    </tr>\n",
       "    <tr>\n",
       "      <th>2</th>\n",
       "      <td>IFA Magazine</td>\n",
       "      <td>fed risks falling 'behind the curve', charles ...</td>\n",
       "    </tr>\n",
       "    <tr>\n",
       "      <th>3</th>\n",
       "      <td>Moneynews</td>\n",
       "      <td>fed's plosser: nasty weather has curbed job gr...</td>\n",
       "    </tr>\n",
       "    <tr>\n",
       "      <th>4</th>\n",
       "      <td>NASDAQ</td>\n",
       "      <td>plosser: fed may have to accelerate tapering pace</td>\n",
       "    </tr>\n",
       "  </tbody>\n",
       "</table>\n",
       "</div>"
      ],
      "text/plain": [
       "      publisher                                              title\n",
       "0      Livemint  fed's charles plosser sees high bar for change...\n",
       "1  IFA Magazine  us open: stocks fall after fed official hints ...\n",
       "2  IFA Magazine  fed risks falling 'behind the curve', charles ...\n",
       "3     Moneynews  fed's plosser: nasty weather has curbed job gr...\n",
       "4        NASDAQ  plosser: fed may have to accelerate tapering pace"
      ]
     },
     "execution_count": 2,
     "metadata": {},
     "output_type": "execute_result"
    }
   ],
   "source": [
    "import pandas as pd\n",
    "\n",
    "# Extract text column from a dataframe\n",
    "df = pd.read_csv(os.path.join(\"data\", \"news.csv\"))\n",
    "df.head()[['publisher', 'title']]\n",
    "\n",
    "# Convert text column to lowercase\n",
    "df['title'] = df['title'].str.lower()\n",
    "df.head()[['publisher', 'title']]"
   ]
  },
  {
   "cell_type": "markdown",
   "metadata": {},
   "source": [
    "### Online Resource"
   ]
  },
  {
   "cell_type": "code",
   "execution_count": 3,
   "metadata": {
    "scrolled": true
   },
   "outputs": [
    {
     "name": "stdout",
     "output_type": "stream",
     "text": [
      "{\n",
      "    \"success\": {\n",
      "        \"total\": 1\n",
      "    },\n",
      "    \"contents\": {\n",
      "        \"quotes\": [\n",
      "            {\n",
      "                \"quote\": \"Hang Out with People Who are Better than You.\",\n",
      "                \"length\": \"45\",\n",
      "                \"author\": \"Warren Buffett\",\n",
      "                \"tags\": [\n",
      "                    \"getting-better\",\n",
      "                    \"inspire\",\n",
      "                    \"people\"\n",
      "                ],\n",
      "                \"category\": \"inspire\",\n",
      "                \"language\": \"en\",\n",
      "                \"date\": \"2020-05-02\",\n",
      "                \"permalink\": \"https://theysaidso.com/quote/warren-buffett-hang-out-with-people-who-are-better-than-you\",\n",
      "                \"id\": \"Vad3EGN2qawGZEDzPopUEgeF\",\n",
      "                \"background\": \"https://theysaidso.com/img/qod/qod-inspire.jpg\",\n",
      "                \"title\": \"Inspiring Quote of the day\"\n",
      "            }\n",
      "        ]\n",
      "    },\n",
      "    \"baseurl\": \"https://theysaidso.com\",\n",
      "    \"copyright\": {\n",
      "        \"year\": 2022,\n",
      "        \"url\": \"https://theysaidso.com\"\n",
      "    }\n",
      "}\n",
      "Hang Out with People Who are Better than You. \n",
      "-- Warren Buffett\n"
     ]
    }
   ],
   "source": [
    "import requests\n",
    "import json\n",
    "\n",
    "# Fetch data from a REST API\n",
    "r = requests.get(\n",
    "    \"https://quotes.rest/qod.json\")\n",
    "res = r.json()\n",
    "print(json.dumps(res, indent=4))\n",
    "\n",
    "# Extract relevant object and field\n",
    "q = res[\"contents\"][\"quotes\"][0]\n",
    "print(q[\"quote\"], \"\\n--\", q[\"author\"])"
   ]
  },
  {
   "cell_type": "markdown",
   "metadata": {},
   "source": [
    "## Cleaning"
   ]
  },
  {
   "cell_type": "code",
   "execution_count": 4,
   "metadata": {
    "scrolled": true
   },
   "outputs": [
    {
     "name": "stdout",
     "output_type": "stream",
     "text": [
      "<html lang=\"en\" op=\"news\"><head><meta name=\"referrer\" content=\"origin\"><meta name=\"viewport\" content=\"width=device-width, initial-scale=1.0\"><link rel=\"stylesheet\" type=\"text/css\" href=\"news.css?MGXlBh5TEwlHPCII6lkM\">\n",
      "        <link rel=\"shortcut icon\" href=\"favicon.ico\">\n",
      "          <link rel=\"alternate\" type=\"application/rss+xml\" title=\"RSS\" href=\"rss\">\n",
      "        <title>Hacker News</title></head><body><center><table id=\"hnmain\" border=\"0\" cellpadding=\"0\" cellspacing=\"0\" width=\"85%\" bgcolor=\"#f6f6ef\">\n",
      "        <tr><td bgcolor=\"#ff6600\"><table border=\"0\" cellpadding=\"0\" cellspacing=\"0\" width=\"100%\" style=\"padding:2px\"><tr><td style=\"width:18px;padding-right:4px\"><a href=\"https://news.ycombinator.com\"><img src=\"y18.gif\" width=\"18\" height=\"18\" style=\"border:1px white solid;\"></a></td>\n",
      "                  <td style=\"line-height:12pt; height:10px;\"><span class=\"pagetop\"><b class=\"hnname\"><a href=\"news\">Hacker News</a></b>\n",
      "              <a href=\"newest\">new</a> | <a href=\"front\">past</a> | <a href=\"newcomments\">comments</a> | <a href=\"ask\">ask</a> | <a href=\"show\">show</a> | <a href=\"jobs\">jobs</a> | <a href=\"submit\">submit</a>            </span></td><td style=\"text-align:right;padding-right:4px;\"><span class=\"pagetop\">\n",
      "                              <a href=\"login?goto=news\">login</a>\n",
      "                          </span></td>\n",
      "              </tr></table></td></tr>\n",
      "<tr id=\"pagespace\" title=\"\" style=\"height:10px\"></tr><tr><td><table border=\"0\" cellpadding=\"0\" cellspacing=\"0\" class=\"itemlist\">\n",
      "              <tr class='athing' id='23048054'>\n",
      "      <td align=\"right\" valign=\"top\" class=\"title\"><span class=\"rank\">1.</span></td>      <td valign=\"top\" class=\"votelinks\"><center><a id='up_23048054' href='vote?id=23048054&amp;how=up&amp;goto=news'><div class='votearrow' title='upvote'></div></a></center></td><td class=\"title\"><a href=\"https://ferd.ca/awk-in-20-minutes.html\" class=\"storylink\">Awk in 20 Minutes (2015)</a><span class=\"sitebit comhead\"> (<a href=\"from?site=ferd.ca\"><span class=\"sitestr\">ferd.ca</span></a>)</span></td></tr><tr><td colspan=\"2\"></td><td class=\"subtext\">\n",
      "        <span class=\"score\" id=\"score_23048054\">91 points</span> by <a href=\"user?id=jessaustin\" class=\"hnuser\">jessaustin</a> <span class=\"age\"><a href=\"item?id=23048054\">1 hour ago</a></span> <span id=\"unv_23048054\"></span> | <a href=\"hide?id=23048054&amp;goto=news\">hide</a> | <a href=\"item?id=23048054\">19&nbsp;comments</a>              </td></tr>\n",
      "      <tr class=\"spacer\" style=\"height:5px\"></tr>\n",
      "                <tr class='athing' id='23045207'>\n",
      "      <td align=\"right\" valign=\"top\" class=\"title\"><span class=\"rank\">2.</span></td>      <td valign=\"top\" class=\"votelinks\"><center><a id='up_23045207' href='vote?id=23045207&amp;how=up&amp;goto=news'><div class='votearrow' title='upvote'></div></a></center></td><td class=\"title\"><a href=\"https://leeoniya.github.io/uPlot/demos/time-periods.html\" class=\"storylink\">Show HN: Plotting 3 years of hourly data in 150ms</a><span class=\"sitebit comhead\"> (<a href=\"from?site=leeoniya.github.io\"><span class=\"sitestr\">leeoniya.github.io</span></a>)</span></td></tr><tr><td colspan=\"2\"></td><td class=\"subtext\">\n",
      "        <span class=\"score\" id=\"score_23045207\">514 points</span> by <a href=\"user?id=leeoniya\" class=\"hnuser\">leeoniya</a> <span class=\"age\"><a href=\"item?id=23045207\">7 hours ago</a></span> <span id=\"unv_23045207\"></span> | <a href=\"hide?id=23045207&amp;goto=news\">hide</a> | <a href=\"item?id=23045207\">76&nbsp;comments</a>              </td></tr>\n",
      "      <tr class=\"spacer\" style=\"height:5px\"></tr>\n",
      "                <tr class='athing' id='23042558'>\n",
      "      <td align=\"right\" valign=\"top\" class=\"title\"><span class=\"rank\">3.</span></td>      <td valign=\"top\" class=\"votelinks\"><center><a id='up_23042558' href='vote?id=23042558&amp;how=up&amp;goto=news'><div class='votearrow' title='upvote'></div></a></center></td><td class=\"title\"><a href=\"https://ameelio.org/\" class=\"storylink\">Show HN: Ameelio.org – Free Prison Communication Platform</a><span class=\"sitebit comhead\"> (<a href=\"from?site=ameelio.org\"><span class=\"sitestr\">ameelio.org</span></a>)</span></td></tr><tr><td colspan=\"2\"></td><td class=\"subtext\">\n",
      "        <span class=\"score\" id=\"score_23042558\">226 points</span> by <a href=\"user?id=jessehorne\" class=\"hnuser\">jessehorne</a> <span class=\"age\"><a href=\"item?id=23042558\">6 hours ago</a></span> <span id=\"unv_23042558\"></span> | <a href=\"hide?id=23042558&amp;goto=news\">hide</a> | <a href=\"item?id=23042558\">59&nbsp;comments</a>              </td></tr>\n",
      "      <tr class=\"spacer\" style=\"height:5px\"></tr>\n",
      "                <tr class='athing' id='23046568'>\n",
      "      <td align=\"right\" valign=\"top\" class=\"title\"><span class=\"rank\">4.</span></td>      <td valign=\"top\" class=\"votelinks\"><center><a id='up_23046568' href='vote?id=23046568&amp;how=up&amp;goto=news'><div class='votearrow' title='upvote'></div></a></center></td><td class=\"title\"><a href=\"https://joyframework.com/\" class=\"storylink\">Joy: Web framework with Clojure syntax, fast startup and low memory usage</a><span class=\"sitebit comhead\"> (<a href=\"from?site=joyframework.com\"><span class=\"sitestr\">joyframework.com</span></a>)</span></td></tr><tr><td colspan=\"2\"></td><td class=\"subtext\">\n",
      "        <span class=\"score\" id=\"score_23046568\">82 points</span> by <a href=\"user?id=galfarragem\" class=\"hnuser\">galfarragem</a> <span class=\"age\"><a href=\"item?id=23046568\">4 hours ago</a></span> <span id=\"unv_23046568\"></span> | <a href=\"hide?id=23046568&amp;goto=news\">hide</a> | <a href=\"item?id=23046568\">20&nbsp;comments</a>              </td></tr>\n",
      "      <tr class=\"spacer\" style=\"height:5px\"></tr>\n",
      "                <tr class='athing' id='23042618'>\n",
      "      <td align=\"right\" valign=\"top\" class=\"title\"><span class=\"rank\">5.</span></td>      <td valign=\"top\" class=\"votelinks\"><center><a id='up_23042618' href='vote?id=23042618&amp;how=up&amp;goto=news'><div class='votearrow' title='upvote'></div></a></center></td><td class=\"title\"><a href=\"item?id=23042618\" class=\"storylink\">Ask HN: Who is hiring? (May 2020)</a></td></tr><tr><td colspan=\"2\"></td><td class=\"subtext\">\n",
      "        <span class=\"score\" id=\"score_23042618\">431 points</span> by <a href=\"user?id=whoishiring\" class=\"hnuser\">whoishiring</a> <span class=\"age\"><a href=\"item?id=23042618\">11 hours ago</a></span> <span id=\"unv_23042618\"></span> | <a href=\"hide?id=23042618&amp;goto=news\">hide</a> | <a href=\"item?id=23042618\">448&nbsp;comments</a>              </td></tr>\n",
      "      <tr class=\"spacer\" style=\"height:5px\"></tr>\n",
      "                <tr class='athing' id='23042079'>\n",
      "      <td align=\"right\" valign=\"top\" class=\"title\"><span class=\"rank\">6.</span></td>      <td valign=\"top\" class=\"votelinks\"><center><a id='up_23042079' href='vote?id=23042079&amp;how=up&amp;goto=news'><div class='votearrow' title='upvote'></div></a></center></td><td class=\"title\"><a href=\"https://refrf.shreyasminocha.me\" class=\"storylink\">Show HN: RegEx for Regular Folk – A visual, example-based introduction</a><span class=\"sitebit comhead\"> (<a href=\"from?site=shreyasminocha.me\"><span class=\"sitestr\">shreyasminocha.me</span></a>)</span></td></tr><tr><td colspan=\"2\"></td><td class=\"subtext\">\n",
      "        <span class=\"score\" id=\"score_23042079\">361 points</span> by <a href=\"user?id=shreyasminocha\" class=\"hnuser\">shreyasminocha</a> <span class=\"age\"><a href=\"item?id=23042079\">12 hours ago</a></span> <span id=\"unv_23042079\"></span> | <a href=\"hide?id=23042079&amp;goto=news\">hide</a> | <a href=\"item?id=23042079\">85&nbsp;comments</a>              </td></tr>\n",
      "      <tr class=\"spacer\" style=\"height:5px\"></tr>\n",
      "                <tr class='athing' id='23042616'>\n",
      "      <td align=\"right\" valign=\"top\" class=\"title\"><span class=\"rank\">7.</span></td>      <td valign=\"top\" class=\"votelinks\"><center><a id='up_23042616' href='vote?id=23042616&amp;how=up&amp;goto=news'><div class='votearrow' title='upvote'></div></a></center></td><td class=\"title\"><a href=\"item?id=23042616\" class=\"storylink\">Ask HN: Who wants to be hired? (May 2020)</a></td></tr><tr><td colspan=\"2\"></td><td class=\"subtext\">\n",
      "        <span class=\"score\" id=\"score_23042616\">135 points</span> by <a href=\"user?id=whoishiring\" class=\"hnuser\">whoishiring</a> <span class=\"age\"><a href=\"item?id=23042616\">9 hours ago</a></span> <span id=\"unv_23042616\"></span> | <a href=\"hide?id=23042616&amp;goto=news\">hide</a> | <a href=\"item?id=23042616\">189&nbsp;comments</a>              </td></tr>\n",
      "      <tr class=\"spacer\" style=\"height:5px\"></tr>\n",
      "                <tr class='athing' id='23047348'>\n",
      "      <td align=\"right\" valign=\"top\" class=\"title\"><span class=\"rank\">8.</span></td>      <td valign=\"top\" class=\"votelinks\"><center><a id='up_23047348' href='vote?id=23047348&amp;how=up&amp;goto=news'><div class='votearrow' title='upvote'></div></a></center></td><td class=\"title\"><a href=\"https://techcrunch.com/2020/05/01/valve-drops-vr-support-for-macos/\" class=\"storylink\">Valve drops VR support for macOS</a><span class=\"sitebit comhead\"> (<a href=\"from?site=techcrunch.com\"><span class=\"sitestr\">techcrunch.com</span></a>)</span></td></tr><tr><td colspan=\"2\"></td><td class=\"subtext\">\n",
      "        <span class=\"score\" id=\"score_23047348\">24 points</span> by <a href=\"user?id=BSVogler\" class=\"hnuser\">BSVogler</a> <span class=\"age\"><a href=\"item?id=23047348\">3 hours ago</a></span> <span id=\"unv_23047348\"></span> | <a href=\"hide?id=23047348&amp;goto=news\">hide</a> | <a href=\"item?id=23047348\">5&nbsp;comments</a>              </td></tr>\n",
      "      <tr class=\"spacer\" style=\"height:5px\"></tr>\n",
      "                <tr class='athing' id='23045042'>\n",
      "      <td align=\"right\" valign=\"top\" class=\"title\"><span class=\"rank\">9.</span></td>      <td valign=\"top\" class=\"votelinks\"><center><a id='up_23045042' href='vote?id=23045042&amp;how=up&amp;goto=news'><div class='votearrow' title='upvote'></div></a></center></td><td class=\"title\"><a href=\"https://siguza.github.io/psychicpaper/\" class=\"storylink\">Psychic Paper: iOS Sandbox Escape</a><span class=\"sitebit comhead\"> (<a href=\"from?site=siguza.github.io\"><span class=\"sitestr\">siguza.github.io</span></a>)</span></td></tr><tr><td colspan=\"2\"></td><td class=\"subtext\">\n",
      "        <span class=\"score\" id=\"score_23045042\">160 points</span> by <a href=\"user?id=mp3il\" class=\"hnuser\">mp3il</a> <span class=\"age\"><a href=\"item?id=23045042\">8 hours ago</a></span> <span id=\"unv_23045042\"></span> | <a href=\"hide?id=23045042&amp;goto=news\">hide</a> | <a href=\"item?id=23045042\">39&nbsp;comments</a>              </td></tr>\n",
      "      <tr class=\"spacer\" style=\"height:5px\"></tr>\n",
      "                <tr class='athing' id='23047885'>\n",
      "      <td align=\"right\" valign=\"top\" class=\"title\"><span class=\"rank\">10.</span></td>      <td valign=\"top\" class=\"votelinks\"><center><a id='up_23047885' href='vote?id=23047885&amp;how=up&amp;goto=news'><div class='votearrow' title='upvote'></div></a></center></td><td class=\"title\"><a href=\"https://annihilatormodule.com/2020-01-18/systemd-archives\" class=\"storylink\">Operating Systems Without Systemd</a><span class=\"sitebit comhead\"> (<a href=\"from?site=annihilatormodule.com\"><span class=\"sitestr\">annihilatormodule.com</span></a>)</span></td></tr><tr><td colspan=\"2\"></td><td class=\"subtext\">\n",
      "        <span class=\"score\" id=\"score_23047885\">57 points</span> by <a href=\"user?id=yangliwei\" class=\"hnuser\">yangliwei</a> <span class=\"age\"><a href=\"item?id=23047885\">2 hours ago</a></span> <span id=\"unv_23047885\"></span> | <a href=\"hide?id=23047885&amp;goto=news\">hide</a> | <a href=\"item?id=23047885\">48&nbsp;comments</a>              </td></tr>\n",
      "      <tr class=\"spacer\" style=\"height:5px\"></tr>\n",
      "                <tr class='athing' id='23043405'>\n",
      "      <td align=\"right\" valign=\"top\" class=\"title\"><span class=\"rank\">11.</span></td>      <td valign=\"top\" class=\"votelinks\"><center><a id='up_23043405' href='vote?id=23043405&amp;how=up&amp;goto=news'><div class='votearrow' title='upvote'></div></a></center></td><td class=\"title\"><a href=\"https://www.bloomberg.com/news/articles/2020-05-01/suvs-get-parked-in-the-ocean-and-reveal-scope-of-u-s-car-glut\" class=\"storylink\">SUVs parked on cargo ships reveal scope of U.S. auto market glut</a><span class=\"sitebit comhead\"> (<a href=\"from?site=bloomberg.com\"><span class=\"sitestr\">bloomberg.com</span></a>)</span></td></tr><tr><td colspan=\"2\"></td><td class=\"subtext\">\n",
      "        <span class=\"score\" id=\"score_23043405\">129 points</span> by <a href=\"user?id=pseudolus\" class=\"hnuser\">pseudolus</a> <span class=\"age\"><a href=\"item?id=23043405\">10 hours ago</a></span> <span id=\"unv_23043405\"></span> | <a href=\"hide?id=23043405&amp;goto=news\">hide</a> | <a href=\"item?id=23043405\">229&nbsp;comments</a>              </td></tr>\n",
      "      <tr class=\"spacer\" style=\"height:5px\"></tr>\n",
      "                <tr class='athing' id='23031762'>\n",
      "      <td align=\"right\" valign=\"top\" class=\"title\"><span class=\"rank\">12.</span></td>      <td valign=\"top\" class=\"votelinks\"><center><a id='up_23031762' href='vote?id=23031762&amp;how=up&amp;goto=news'><div class='votearrow' title='upvote'></div></a></center></td><td class=\"title\"><a href=\"https://jepsen.io/analyses/dgraph-1.1.1\" class=\"storylink\">Jepsen: Dgraph 1.1.1</a><span class=\"sitebit comhead\"> (<a href=\"from?site=jepsen.io\"><span class=\"sitestr\">jepsen.io</span></a>)</span></td></tr><tr><td colspan=\"2\"></td><td class=\"subtext\">\n",
      "        <span class=\"score\" id=\"score_23031762\">162 points</span> by <a href=\"user?id=aphyr\" class=\"hnuser\">aphyr</a> <span class=\"age\"><a href=\"item?id=23031762\">11 hours ago</a></span> <span id=\"unv_23031762\"></span> | <a href=\"hide?id=23031762&amp;goto=news\">hide</a> | <a href=\"item?id=23031762\">59&nbsp;comments</a>              </td></tr>\n",
      "      <tr class=\"spacer\" style=\"height:5px\"></tr>\n",
      "                <tr class='athing' id='23042207'>\n",
      "      <td align=\"right\" valign=\"top\" class=\"title\"><span class=\"rank\">13.</span></td>      <td valign=\"top\" class=\"votelinks\"><center><a id='up_23042207' href='vote?id=23042207&amp;how=up&amp;goto=news'><div class='votearrow' title='upvote'></div></a></center></td><td class=\"title\"><a href=\"https://my.matterport.com/show/?m=NeiMEZa9d93&amp;mls=1\" class=\"storylink\">Virtual tour of the tomb of Pharaoh Ramses VI</a><span class=\"sitebit comhead\"> (<a href=\"from?site=matterport.com\"><span class=\"sitestr\">matterport.com</span></a>)</span></td></tr><tr><td colspan=\"2\"></td><td class=\"subtext\">\n",
      "        <span class=\"score\" id=\"score_23042207\">224 points</span> by <a href=\"user?id=open-source-ux\" class=\"hnuser\">open-source-ux</a> <span class=\"age\"><a href=\"item?id=23042207\">12 hours ago</a></span> <span id=\"unv_23042207\"></span> | <a href=\"hide?id=23042207&amp;goto=news\">hide</a> | <a href=\"item?id=23042207\">48&nbsp;comments</a>              </td></tr>\n",
      "      <tr class=\"spacer\" style=\"height:5px\"></tr>\n",
      "                <tr class='athing' id='23046420'>\n",
      "      <td align=\"right\" valign=\"top\" class=\"title\"><span class=\"rank\">14.</span></td>      <td valign=\"top\" class=\"votelinks\"><center><a id='up_23046420' href='vote?id=23046420&amp;how=up&amp;goto=news'><div class='votearrow' title='upvote'></div></a></center></td><td class=\"title\"><a href=\"https://jakearchibald.com/2016/sounds-fun/\" class=\"storylink\">Web Audio API: Musically-aware scheduling and Dynamic looping (2016)</a><span class=\"sitebit comhead\"> (<a href=\"from?site=jakearchibald.com\"><span class=\"sitestr\">jakearchibald.com</span></a>)</span></td></tr><tr><td colspan=\"2\"></td><td class=\"subtext\">\n",
      "        <span class=\"score\" id=\"score_23046420\">46 points</span> by <a href=\"user?id=feross\" class=\"hnuser\">feross</a> <span class=\"age\"><a href=\"item?id=23046420\">5 hours ago</a></span> <span id=\"unv_23046420\"></span> | <a href=\"hide?id=23046420&amp;goto=news\">hide</a> | <a href=\"item?id=23046420\">8&nbsp;comments</a>              </td></tr>\n",
      "      <tr class=\"spacer\" style=\"height:5px\"></tr>\n",
      "                <tr class='athing' id='23047645'>\n",
      "      <td align=\"right\" valign=\"top\" class=\"title\"><span class=\"rank\">15.</span></td>      <td valign=\"top\" class=\"votelinks\"><center><a id='up_23047645' href='vote?id=23047645&amp;how=up&amp;goto=news'><div class='votearrow' title='upvote'></div></a></center></td><td class=\"title\"><a href=\"https://www.forbes.com/sites/johnkoetsier/2020/04/30/74-of-startups-have-trimmed-staff-65-have-less-than-6-months-of-cash/74%OfStartupsHaveTrimmedStaff,65%HaveLessThan6MonthsOfCash\" class=\"storylink\">74% of Startups Have Trimmed Staff, 65% Have Less Than 6 Months of Cash</a><span class=\"sitebit comhead\"> (<a href=\"from?site=forbes.com\"><span class=\"sitestr\">forbes.com</span></a>)</span></td></tr><tr><td colspan=\"2\"></td><td class=\"subtext\">\n",
      "        <span class=\"score\" id=\"score_23047645\">85 points</span> by <a href=\"user?id=alephnan\" class=\"hnuser\">alephnan</a> <span class=\"age\"><a href=\"item?id=23047645\">2 hours ago</a></span> <span id=\"unv_23047645\"></span> | <a href=\"hide?id=23047645&amp;goto=news\">hide</a> | <a href=\"item?id=23047645\">33&nbsp;comments</a>              </td></tr>\n",
      "      <tr class=\"spacer\" style=\"height:5px\"></tr>\n",
      "                <tr class='athing' id='23040562'>\n",
      "      <td align=\"right\" valign=\"top\" class=\"title\"><span class=\"rank\">16.</span></td>      <td valign=\"top\" class=\"votelinks\"><center><a id='up_23040562' href='vote?id=23040562&amp;how=up&amp;goto=news'><div class='votearrow' title='upvote'></div></a></center></td><td class=\"title\"><a href=\"https://soc.me/languages/type-annotations\" class=\"storylink\">Language Design: Use 'ident: Type' not 'Type ident'</a><span class=\"sitebit comhead\"> (<a href=\"from?site=soc.me\"><span class=\"sitestr\">soc.me</span></a>)</span></td></tr><tr><td colspan=\"2\"></td><td class=\"subtext\">\n",
      "        <span class=\"score\" id=\"score_23040562\">72 points</span> by <a href=\"user?id=pcr910303\" class=\"hnuser\">pcr910303</a> <span class=\"age\"><a href=\"item?id=23040562\">7 hours ago</a></span> <span id=\"unv_23040562\"></span> | <a href=\"hide?id=23040562&amp;goto=news\">hide</a> | <a href=\"item?id=23040562\">105&nbsp;comments</a>              </td></tr>\n",
      "      <tr class=\"spacer\" style=\"height:5px\"></tr>\n",
      "                <tr class='athing' id='23041138'>\n",
      "      <td align=\"right\" valign=\"top\" class=\"title\"><span class=\"rank\">17.</span></td>      <td valign=\"top\" class=\"votelinks\"><center><a id='up_23041138' href='vote?id=23041138&amp;how=up&amp;goto=news'><div class='votearrow' title='upvote'></div></a></center></td><td class=\"title\"><a href=\"https://www.wired.co.uk/article/dropshipping-instagram-ads\" class=\"storylink\">The weird, get-rich-quick world of dropshipping</a><span class=\"sitebit comhead\"> (<a href=\"from?site=wired.co.uk\"><span class=\"sitestr\">wired.co.uk</span></a>)</span></td></tr><tr><td colspan=\"2\"></td><td class=\"subtext\">\n",
      "        <span class=\"score\" id=\"score_23041138\">248 points</span> by <a href=\"user?id=factsaresacred\" class=\"hnuser\">factsaresacred</a> <span class=\"age\"><a href=\"item?id=23041138\">14 hours ago</a></span> <span id=\"unv_23041138\"></span> | <a href=\"hide?id=23041138&amp;goto=news\">hide</a> | <a href=\"item?id=23041138\">192&nbsp;comments</a>              </td></tr>\n",
      "      <tr class=\"spacer\" style=\"height:5px\"></tr>\n",
      "                <tr class='athing' id='23041264'>\n",
      "      <td align=\"right\" valign=\"top\" class=\"title\"><span class=\"rank\">18.</span></td>      <td valign=\"top\" class=\"votelinks\"><center><a id='up_23041264' href='vote?id=23041264&amp;how=up&amp;goto=news'><div class='votearrow' title='upvote'></div></a></center></td><td class=\"title\"><a href=\"https://kanoki.org/2020/04/30/time-series-analysis-and-forecasting-with-arima-python/\" class=\"storylink\">Comprehensive Tutorial on Time Series Modelling and Forecasting</a><span class=\"sitebit comhead\"> (<a href=\"from?site=kanoki.org\"><span class=\"sitestr\">kanoki.org</span></a>)</span></td></tr><tr><td colspan=\"2\"></td><td class=\"subtext\">\n",
      "        <span class=\"score\" id=\"score_23041264\">230 points</span> by <a href=\"user?id=min2bro\" class=\"hnuser\">min2bro</a> <span class=\"age\"><a href=\"item?id=23041264\">14 hours ago</a></span> <span id=\"unv_23041264\"></span> | <a href=\"hide?id=23041264&amp;goto=news\">hide</a> | <a href=\"item?id=23041264\">42&nbsp;comments</a>              </td></tr>\n",
      "      <tr class=\"spacer\" style=\"height:5px\"></tr>\n",
      "                <tr class='athing' id='23047287'>\n",
      "      <td align=\"right\" valign=\"top\" class=\"title\"><span class=\"rank\">19.</span></td>      <td valign=\"top\" class=\"votelinks\"><center><a id='up_23047287' href='vote?id=23047287&amp;how=up&amp;goto=news'><div class='votearrow' title='upvote'></div></a></center></td><td class=\"title\"><a href=\"https://vitalik.ca/general/2020/04/30/round5.html\" class=\"storylink\">Gitcoin Grants Round 5 Retrospective</a><span class=\"sitebit comhead\"> (<a href=\"from?site=vitalik.ca\"><span class=\"sitestr\">vitalik.ca</span></a>)</span></td></tr><tr><td colspan=\"2\"></td><td class=\"subtext\">\n",
      "        <span class=\"score\" id=\"score_23047287\">18 points</span> by <a href=\"user?id=feross\" class=\"hnuser\">feross</a> <span class=\"age\"><a href=\"item?id=23047287\">3 hours ago</a></span> <span id=\"unv_23047287\"></span> | <a href=\"hide?id=23047287&amp;goto=news\">hide</a> | <a href=\"item?id=23047287\">discuss</a>              </td></tr>\n",
      "      <tr class=\"spacer\" style=\"height:5px\"></tr>\n",
      "                <tr class='athing' id='23041018'>\n",
      "      <td align=\"right\" valign=\"top\" class=\"title\"><span class=\"rank\">20.</span></td>      <td valign=\"top\" class=\"votelinks\"><center><a id='up_23041018' href='vote?id=23041018&amp;how=up&amp;goto=news'><div class='votearrow' title='upvote'></div></a></center></td><td class=\"title\"><a href=\"https://ferd.ca/complexity-has-to-live-somewhere.html\" class=\"storylink\">Complexity Has to Live Somewhere</a><span class=\"sitebit comhead\"> (<a href=\"from?site=ferd.ca\"><span class=\"sitestr\">ferd.ca</span></a>)</span></td></tr><tr><td colspan=\"2\"></td><td class=\"subtext\">\n",
      "        <span class=\"score\" id=\"score_23041018\">264 points</span> by <a href=\"user?id=mononcqc\" class=\"hnuser\">mononcqc</a> <span class=\"age\"><a href=\"item?id=23041018\">15 hours ago</a></span> <span id=\"unv_23041018\"></span> | <a href=\"hide?id=23041018&amp;goto=news\">hide</a> | <a href=\"item?id=23041018\">129&nbsp;comments</a>              </td></tr>\n",
      "      <tr class=\"spacer\" style=\"height:5px\"></tr>\n",
      "                <tr class='athing' id='23045651'>\n",
      "      <td align=\"right\" valign=\"top\" class=\"title\"><span class=\"rank\">21.</span></td>      <td valign=\"top\" class=\"votelinks\"><center><a id='up_23045651' href='vote?id=23045651&amp;how=up&amp;goto=news'><div class='votearrow' title='upvote'></div></a></center></td><td class=\"title\"><a href=\"https://share-ng.sandia.gov/news/resources/news_releases/3d_modeling/\" class=\"storylink\">Automating Complex 3D Modeling</a><span class=\"sitebit comhead\"> (<a href=\"from?site=sandia.gov\"><span class=\"sitestr\">sandia.gov</span></a>)</span></td></tr><tr><td colspan=\"2\"></td><td class=\"subtext\">\n",
      "        <span class=\"score\" id=\"score_23045651\">48 points</span> by <a href=\"user?id=sizzle\" class=\"hnuser\">sizzle</a> <span class=\"age\"><a href=\"item?id=23045651\">7 hours ago</a></span> <span id=\"unv_23045651\"></span> | <a href=\"hide?id=23045651&amp;goto=news\">hide</a> | <a href=\"item?id=23045651\">7&nbsp;comments</a>              </td></tr>\n",
      "      <tr class=\"spacer\" style=\"height:5px\"></tr>\n",
      "                <tr class='athing' id='23043525'>\n",
      "      <td align=\"right\" valign=\"top\" class=\"title\"><span class=\"rank\">22.</span></td>      <td valign=\"top\" class=\"votelinks\"><center><a id='up_23043525' href='vote?id=23043525&amp;how=up&amp;goto=news'><div class='votearrow' title='upvote'></div></a></center></td><td class=\"title\"><a href=\"https://physicstoday.scitation.org/journal/pto\" class=\"storylink\">Physics Today is temporarily making its archive freely available</a><span class=\"sitebit comhead\"> (<a href=\"from?site=scitation.org\"><span class=\"sitestr\">scitation.org</span></a>)</span></td></tr><tr><td colspan=\"2\"></td><td class=\"subtext\">\n",
      "        <span class=\"score\" id=\"score_23043525\">243 points</span> by <a href=\"user?id=happy-go-lucky\" class=\"hnuser\">happy-go-lucky</a> <span class=\"age\"><a href=\"item?id=23043525\">10 hours ago</a></span> <span id=\"unv_23043525\"></span> | <a href=\"hide?id=23043525&amp;goto=news\">hide</a> | <a href=\"item?id=23043525\">24&nbsp;comments</a>              </td></tr>\n",
      "      <tr class=\"spacer\" style=\"height:5px\"></tr>\n",
      "                <tr class='athing' id='23043705'>\n",
      "      <td align=\"right\" valign=\"top\" class=\"title\"><span class=\"rank\">23.</span></td>      <td valign=\"top\" class=\"votelinks\"><center><a id='up_23043705' href='vote?id=23043705&amp;how=up&amp;goto=news'><div class='votearrow' title='upvote'></div></a></center></td><td class=\"title\"><a href=\"https://sitesauce.app\" class=\"storylink\">Show HN: Generate a static website from any back end</a><span class=\"sitebit comhead\"> (<a href=\"from?site=sitesauce.app\"><span class=\"sitestr\">sitesauce.app</span></a>)</span></td></tr><tr><td colspan=\"2\"></td><td class=\"subtext\">\n",
      "        <span class=\"score\" id=\"score_23043705\">126 points</span> by <a href=\"user?id=m1guelpf\" class=\"hnuser\">m1guelpf</a> <span class=\"age\"><a href=\"item?id=23043705\">10 hours ago</a></span> <span id=\"unv_23043705\"></span> | <a href=\"hide?id=23043705&amp;goto=news\">hide</a> | <a href=\"item?id=23043705\">38&nbsp;comments</a>              </td></tr>\n",
      "      <tr class=\"spacer\" style=\"height:5px\"></tr>\n",
      "                <tr class='athing' id='23041747'>\n",
      "      <td align=\"right\" valign=\"top\" class=\"title\"><span class=\"rank\">24.</span></td>      <td valign=\"top\" class=\"votelinks\"><center><a id='up_23041747' href='vote?id=23041747&amp;how=up&amp;goto=news'><div class='votearrow' title='upvote'></div></a></center></td><td class=\"title\"><a href=\"https://github.com/biomurph/Mouse\" class=\"storylink\">Repository for Open Source Mouse Firmware and Hardware</a><span class=\"sitebit comhead\"> (<a href=\"from?site=github.com\"><span class=\"sitestr\">github.com</span></a>)</span></td></tr><tr><td colspan=\"2\"></td><td class=\"subtext\">\n",
      "        <span class=\"score\" id=\"score_23041747\">130 points</span> by <a href=\"user?id=justinclift\" class=\"hnuser\">justinclift</a> <span class=\"age\"><a href=\"item?id=23041747\">13 hours ago</a></span> <span id=\"unv_23041747\"></span> | <a href=\"hide?id=23041747&amp;goto=news\">hide</a> | <a href=\"item?id=23041747\">14&nbsp;comments</a>              </td></tr>\n",
      "      <tr class=\"spacer\" style=\"height:5px\"></tr>\n",
      "                <tr class='athing' id='23038637'>\n",
      "      <td align=\"right\" valign=\"top\" class=\"title\"><span class=\"rank\">25.</span></td>      <td valign=\"top\" class=\"votelinks\"><center><a id='up_23038637' href='vote?id=23038637&amp;how=up&amp;goto=news'><div class='votearrow' title='upvote'></div></a></center></td><td class=\"title\"><a href=\"https://www.icann.org/news/blog/icann-board-withholds-consent-for-a-change-of-control-of-the-public-interest-registry-pir\" class=\"storylink\">ICANN board withholds consent for a change of control of the .org registry</a><span class=\"sitebit comhead\"> (<a href=\"from?site=icann.org\"><span class=\"sitestr\">icann.org</span></a>)</span></td></tr><tr><td colspan=\"2\"></td><td class=\"subtext\">\n",
      "        <span class=\"score\" id=\"score_23038637\">1344 points</span> by <a href=\"user?id=cjbprime\" class=\"hnuser\">cjbprime</a> <span class=\"age\"><a href=\"item?id=23038637\">23 hours ago</a></span> <span id=\"unv_23038637\"></span> | <a href=\"hide?id=23038637&amp;goto=news\">hide</a> | <a href=\"item?id=23038637\">240&nbsp;comments</a>              </td></tr>\n",
      "      <tr class=\"spacer\" style=\"height:5px\"></tr>\n",
      "                <tr class='athing' id='23043698'>\n",
      "      <td align=\"right\" valign=\"top\" class=\"title\"><span class=\"rank\">26.</span></td>      <td valign=\"top\" class=\"votelinks\"><center><a id='up_23043698' href='vote?id=23043698&amp;how=up&amp;goto=news'><div class='votearrow' title='upvote'></div></a></center></td><td class=\"title\"><a href=\"http://www.failory.com/podcast/bernard-huang\" class=\"storylink\">How failures led to a SaaS [audio]</a><span class=\"sitebit comhead\"> (<a href=\"from?site=failory.com\"><span class=\"sitestr\">failory.com</span></a>)</span></td></tr><tr><td colspan=\"2\"></td><td class=\"subtext\">\n",
      "        <span class=\"score\" id=\"score_23043698\">92 points</span> by <a href=\"user?id=aledalgrande\" class=\"hnuser\">aledalgrande</a> <span class=\"age\"><a href=\"item?id=23043698\">10 hours ago</a></span> <span id=\"unv_23043698\"></span> | <a href=\"hide?id=23043698&amp;goto=news\">hide</a> | <a href=\"item?id=23043698\">25&nbsp;comments</a>              </td></tr>\n",
      "      <tr class=\"spacer\" style=\"height:5px\"></tr>\n",
      "                <tr class='athing' id='23042424'>\n",
      "      <td align=\"right\" valign=\"top\" class=\"title\"><span class=\"rank\">27.</span></td>      <td valign=\"top\" class=\"votelinks\"><center><a id='up_23042424' href='vote?id=23042424&amp;how=up&amp;goto=news'><div class='votearrow' title='upvote'></div></a></center></td><td class=\"title\"><a href=\"https://gemini.circumlunar.space/\" class=\"storylink\">Gemini – A new, collaboratively designed internet protocol</a><span class=\"sitebit comhead\"> (<a href=\"from?site=circumlunar.space\"><span class=\"sitestr\">circumlunar.space</span></a>)</span></td></tr><tr><td colspan=\"2\"></td><td class=\"subtext\">\n",
      "        <span class=\"score\" id=\"score_23042424\">124 points</span> by <a href=\"user?id=_emacsomancer_\" class=\"hnuser\">_emacsomancer_</a> <span class=\"age\"><a href=\"item?id=23042424\">11 hours ago</a></span> <span id=\"unv_23042424\"></span> | <a href=\"hide?id=23042424&amp;goto=news\">hide</a> | <a href=\"item?id=23042424\">47&nbsp;comments</a>              </td></tr>\n",
      "      <tr class=\"spacer\" style=\"height:5px\"></tr>\n",
      "                <tr class='athing' id='23041577'>\n",
      "      <td align=\"right\" valign=\"top\" class=\"title\"><span class=\"rank\">28.</span></td>      <td valign=\"top\" class=\"votelinks\"><center><a id='up_23041577' href='vote?id=23041577&amp;how=up&amp;goto=news'><div class='votearrow' title='upvote'></div></a></center></td><td class=\"title\"><a href=\"https://www.infoq.com/articles/java-text-blocks/\" class=\"storylink\">Java Feature Spotlight: Text Blocks</a><span class=\"sitebit comhead\"> (<a href=\"from?site=infoq.com\"><span class=\"sitestr\">infoq.com</span></a>)</span></td></tr><tr><td colspan=\"2\"></td><td class=\"subtext\">\n",
      "        <span class=\"score\" id=\"score_23041577\">105 points</span> by <a href=\"user?id=chhum\" class=\"hnuser\">chhum</a> <span class=\"age\"><a href=\"item?id=23041577\">13 hours ago</a></span> <span id=\"unv_23041577\"></span> | <a href=\"hide?id=23041577&amp;goto=news\">hide</a> | <a href=\"item?id=23041577\">104&nbsp;comments</a>              </td></tr>\n",
      "      <tr class=\"spacer\" style=\"height:5px\"></tr>\n",
      "                <tr class='athing' id='23036893'>\n",
      "      <td align=\"right\" valign=\"top\" class=\"title\"><span class=\"rank\">29.</span></td>      <td valign=\"top\" class=\"votelinks\"><center><a id='up_23036893' href='vote?id=23036893&amp;how=up&amp;goto=news'><div class='votearrow' title='upvote'></div></a></center></td><td class=\"title\"><a href=\"https://medium.com/@peternorvig/ive-consed-every-pair-54ef5d9d93b6\" class=\"storylink\">I’ve Consed Every Pair</a><span class=\"sitebit comhead\"> (<a href=\"from?site=medium.com\"><span class=\"sitestr\">medium.com</span></a>)</span></td></tr><tr><td colspan=\"2\"></td><td class=\"subtext\">\n",
      "        <span class=\"score\" id=\"score_23036893\">516 points</span> by <a href=\"user?id=DonHopkins\" class=\"hnuser\">DonHopkins</a> <span class=\"age\"><a href=\"item?id=23036893\">1 day ago</a></span> <span id=\"unv_23036893\"></span> | <a href=\"hide?id=23036893&amp;goto=news\">hide</a> | <a href=\"item?id=23036893\">198&nbsp;comments</a>              </td></tr>\n",
      "      <tr class=\"spacer\" style=\"height:5px\"></tr>\n",
      "                <tr class='athing' id='23047629'>\n",
      "      <td align=\"right\" valign=\"top\" class=\"title\"><span class=\"rank\">30.</span></td>      <td valign=\"top\" class=\"votelinks\"><center><a id='up_23047629' href='vote?id=23047629&amp;how=up&amp;goto=news'><div class='votearrow' title='upvote'></div></a></center></td><td class=\"title\"><a href=\"https://www.alexpghayes.com/blog/elon-musk-send-tweet/\" class=\"storylink\">A synthetic control causal analysis of Musk's tweet on Tesla stock price</a><span class=\"sitebit comhead\"> (<a href=\"from?site=alexpghayes.com\"><span class=\"sitestr\">alexpghayes.com</span></a>)</span></td></tr><tr><td colspan=\"2\"></td><td class=\"subtext\">\n",
      "        <span class=\"score\" id=\"score_23047629\">83 points</span> by <a href=\"user?id=alexpghayes\" class=\"hnuser\">alexpghayes</a> <span class=\"age\"><a href=\"item?id=23047629\">2 hours ago</a></span> <span id=\"unv_23047629\"></span> | <a href=\"hide?id=23047629&amp;goto=news\">hide</a> | <a href=\"item?id=23047629\">54&nbsp;comments</a>              </td></tr>\n",
      "      <tr class=\"spacer\" style=\"height:5px\"></tr>\n",
      "            <tr class=\"morespace\" style=\"height:10px\"></tr><tr><td colspan=\"2\"></td><td class=\"title\"><a href=\"news?p=2\" class=\"morelink\" rel=\"next\">More</a></td></tr>\n",
      "  </table>\n",
      "</td></tr>\n",
      "<tr><td><img src=\"s.gif\" height=\"10\" width=\"0\"><table width=\"100%\" cellspacing=\"0\" cellpadding=\"1\"><tr><td bgcolor=\"#ff6600\"></td></tr></table><br><center><span class=\"yclinks\"><a href=\"newsguidelines.html\">Guidelines</a>\n",
      "        | <a href=\"newsfaq.html\">FAQ</a>\n",
      "        | <a href=\"mailto:hn@ycombinator.com\">Support</a>\n",
      "        | <a href=\"https://github.com/HackerNews/API\">API</a>\n",
      "        | <a href=\"security.html\">Security</a>\n",
      "        | <a href=\"lists\">Lists</a>\n",
      "        | <a href=\"bookmarklet.html\" rel=\"nofollow\">Bookmarklet</a>\n",
      "        | <a href=\"http://www.ycombinator.com/legal/\">Legal</a>\n",
      "        | <a href=\"http://www.ycombinator.com/apply/\">Apply to YC</a>\n",
      "        | <a href=\"mailto:hn@ycombinator.com\">Contact</a></span><br><br><form method=\"get\" action=\"//hn.algolia.com/\">Search:\n",
      "          <input type=\"text\" name=\"q\" value=\"\" size=\"17\" autocorrect=\"off\" spellcheck=\"false\" autocapitalize=\"off\" autocomplete=\"false\"></form>\n",
      "            </center></td></tr>\n",
      "      </table></center></body><script type='text/javascript' src='hn.js?MGXlBh5TEwlHPCII6lkM'></script></html>\n",
      "\n"
     ]
    }
   ],
   "source": [
    "import requests\n",
    "\n",
    "# Fetch a web page\n",
    "r = requests.get(\"https://news.ycombinator.com\")\n",
    "print(r.text)"
   ]
  },
  {
   "cell_type": "code",
   "execution_count": 5,
   "metadata": {},
   "outputs": [
    {
     "name": "stdout",
     "output_type": "stream",
     "text": [
      "\n",
      "        \n",
      "          \n",
      "        Hacker News\n",
      "        \n",
      "                  Hacker News\n",
      "              new | past | comments | ask | show | jobs | submit            \n",
      "                              login\n",
      "                          \n",
      "              \n",
      "\n",
      "              \n",
      "      1.      Awk in 20 Minutes (2015) (ferd.ca)\n",
      "        91 points by jessaustin 1 hour ago  | hide | 19&nbsp;comments              \n",
      "      \n",
      "                \n",
      "      2.      Show HN: Plotting 3 years of hourly data in 150ms (leeoniya.github.io)\n",
      "        514 points by leeoniya 7 hours ago  | hide | 76&nbsp;comments              \n",
      "      \n",
      "                \n",
      "      3.      Show HN: Ameelio.org – Free Prison Communication Platform (ameelio.org)\n",
      "        226 points by jessehorne 6 hours ago  | hide | 59&nbsp;comments              \n",
      "      \n",
      "                \n",
      "      4.      Joy: Web framework with Clojure syntax, fast startup and low memory usage (joyframework.com)\n",
      "        82 points by galfarragem 4 hours ago  | hide | 20&nbsp;comments              \n",
      "      \n",
      "                \n",
      "      5.      Ask HN: Who is hiring? (May 2020)\n",
      "        431 points by whoishiring 11 hours ago  | hide | 448&nbsp;comments              \n",
      "      \n",
      "                \n",
      "      6.      Show HN: RegEx for Regular Folk – A visual, example-based introduction (shreyasminocha.me)\n",
      "        361 points by shreyasminocha 12 hours ago  | hide | 85&nbsp;comments              \n",
      "      \n",
      "                \n",
      "      7.      Ask HN: Who wants to be hired? (May 2020)\n",
      "        135 points by whoishiring 9 hours ago  | hide | 189&nbsp;comments              \n",
      "      \n",
      "                \n",
      "      8.      Valve drops VR support for macOS (techcrunch.com)\n",
      "        24 points by BSVogler 3 hours ago  | hide | 5&nbsp;comments              \n",
      "      \n",
      "                \n",
      "      9.      Psychic Paper: iOS Sandbox Escape (siguza.github.io)\n",
      "        160 points by mp3il 8 hours ago  | hide | 39&nbsp;comments              \n",
      "      \n",
      "                \n",
      "      10.      Operating Systems Without Systemd (annihilatormodule.com)\n",
      "        57 points by yangliwei 2 hours ago  | hide | 48&nbsp;comments              \n",
      "      \n",
      "                \n",
      "      11.      SUVs parked on cargo ships reveal scope of U.S. auto market glut (bloomberg.com)\n",
      "        129 points by pseudolus 10 hours ago  | hide | 229&nbsp;comments              \n",
      "      \n",
      "                \n",
      "      12.      Jepsen: Dgraph 1.1.1 (jepsen.io)\n",
      "        162 points by aphyr 11 hours ago  | hide | 59&nbsp;comments              \n",
      "      \n",
      "                \n",
      "      13.      Virtual tour of the tomb of Pharaoh Ramses VI (matterport.com)\n",
      "        224 points by open-source-ux 12 hours ago  | hide | 48&nbsp;comments              \n",
      "      \n",
      "                \n",
      "      14.      Web Audio API: Musically-aware scheduling and Dynamic looping (2016) (jakearchibald.com)\n",
      "        46 points by feross 5 hours ago  | hide | 8&nbsp;comments              \n",
      "      \n",
      "                \n",
      "      15.      74% of Startups Have Trimmed Staff, 65% Have Less Than 6 Months of Cash (forbes.com)\n",
      "        85 points by alephnan 2 hours ago  | hide | 33&nbsp;comments              \n",
      "      \n",
      "                \n",
      "      16.      Language Design: Use 'ident: Type' not 'Type ident' (soc.me)\n",
      "        72 points by pcr910303 7 hours ago  | hide | 105&nbsp;comments              \n",
      "      \n",
      "                \n",
      "      17.      The weird, get-rich-quick world of dropshipping (wired.co.uk)\n",
      "        248 points by factsaresacred 14 hours ago  | hide | 192&nbsp;comments              \n",
      "      \n",
      "                \n",
      "      18.      Comprehensive Tutorial on Time Series Modelling and Forecasting (kanoki.org)\n",
      "        230 points by min2bro 14 hours ago  | hide | 42&nbsp;comments              \n",
      "      \n",
      "                \n",
      "      19.      Gitcoin Grants Round 5 Retrospective (vitalik.ca)\n",
      "        18 points by feross 3 hours ago  | hide | discuss              \n",
      "      \n",
      "                \n",
      "      20.      Complexity Has to Live Somewhere (ferd.ca)\n",
      "        264 points by mononcqc 15 hours ago  | hide | 129&nbsp;comments              \n",
      "      \n",
      "                \n",
      "      21.      Automating Complex 3D Modeling (sandia.gov)\n",
      "        48 points by sizzle 7 hours ago  | hide | 7&nbsp;comments              \n",
      "      \n",
      "                \n",
      "      22.      Physics Today is temporarily making its archive freely available (scitation.org)\n",
      "        243 points by happy-go-lucky 10 hours ago  | hide | 24&nbsp;comments              \n",
      "      \n",
      "                \n",
      "      23.      Show HN: Generate a static website from any back end (sitesauce.app)\n",
      "        126 points by m1guelpf 10 hours ago  | hide | 38&nbsp;comments              \n",
      "      \n",
      "                \n",
      "      24.      Repository for Open Source Mouse Firmware and Hardware (github.com)\n",
      "        130 points by justinclift 13 hours ago  | hide | 14&nbsp;comments              \n",
      "      \n",
      "                \n",
      "      25.      ICANN board withholds consent for a change of control of the .org registry (icann.org)\n",
      "        1344 points by cjbprime 23 hours ago  | hide | 240&nbsp;comments              \n",
      "      \n",
      "                \n",
      "      26.      How failures led to a SaaS [audio] (failory.com)\n",
      "        92 points by aledalgrande 10 hours ago  | hide | 25&nbsp;comments              \n",
      "      \n",
      "                \n",
      "      27.      Gemini – A new, collaboratively designed internet protocol (circumlunar.space)\n",
      "        124 points by _emacsomancer_ 11 hours ago  | hide | 47&nbsp;comments              \n",
      "      \n",
      "                \n",
      "      28.      Java Feature Spotlight: Text Blocks (infoq.com)\n",
      "        105 points by chhum 13 hours ago  | hide | 104&nbsp;comments              \n",
      "      \n",
      "                \n",
      "      29.      I’ve Consed Every Pair (medium.com)\n",
      "        516 points by DonHopkins 1 day ago  | hide | 198&nbsp;comments              \n",
      "      \n",
      "                \n",
      "      30.      A synthetic control causal analysis of Musk's tweet on Tesla stock price (alexpghayes.com)\n",
      "        83 points by alexpghayes 2 hours ago  | hide | 54&nbsp;comments              \n",
      "      \n",
      "            More\n",
      "  \n",
      "\n",
      "Guidelines\n",
      "        | FAQ\n",
      "        | Support\n",
      "        | API\n",
      "        | Security\n",
      "        | Lists\n",
      "        | Bookmarklet\n",
      "        | Legal\n",
      "        | Apply to YC\n",
      "        | ContactSearch:\n",
      "          \n",
      "            \n",
      "      \n",
      "\n"
     ]
    }
   ],
   "source": [
    "import re\n",
    "\n",
    "# Remove HTML tags using RegEx\n",
    "pattern = re.compile(r'<.*?>')  # tags look like <...>\n",
    "print(pattern.sub('', r.text))  # replace them with blank"
   ]
  },
  {
   "cell_type": "code",
   "execution_count": 6,
   "metadata": {},
   "outputs": [
    {
     "name": "stdout",
     "output_type": "stream",
     "text": [
      "\n",
      "        \n",
      "          \n",
      "        Hacker News\n",
      "        \n",
      "                  Hacker News\n",
      "              new | past | comments | ask | show | jobs | submit            \n",
      "                              login\n",
      "                          \n",
      "              \n",
      "\n",
      "              \n",
      "      1.      Awk in 20 Minutes (2015) (ferd.ca)\n",
      "        91 points by jessaustin 1 hour ago  | hide | 19 comments              \n",
      "      \n",
      "                \n",
      "      2.      Show HN: Plotting 3 years of hourly data in 150ms (leeoniya.github.io)\n",
      "        514 points by leeoniya 7 hours ago  | hide | 76 comments              \n",
      "      \n",
      "                \n",
      "      3.      Show HN: Ameelio.org – Free Prison Communication Platform (ameelio.org)\n",
      "        226 points by jessehorne 6 hours ago  | hide | 59 comments              \n",
      "      \n",
      "                \n",
      "      4.      Joy: Web framework with Clojure syntax, fast startup and low memory usage (joyframework.com)\n",
      "        82 points by galfarragem 4 hours ago  | hide | 20 comments              \n",
      "      \n",
      "                \n",
      "      5.      Ask HN: Who is hiring? (May 2020)\n",
      "        431 points by whoishiring 11 hours ago  | hide | 448 comments              \n",
      "      \n",
      "                \n",
      "      6.      Show HN: RegEx for Regular Folk – A visual, example-based introduction (shreyasminocha.me)\n",
      "        361 points by shreyasminocha 12 hours ago  | hide | 85 comments              \n",
      "      \n",
      "                \n",
      "      7.      Ask HN: Who wants to be hired? (May 2020)\n",
      "        135 points by whoishiring 9 hours ago  | hide | 189 comments              \n",
      "      \n",
      "                \n",
      "      8.      Valve drops VR support for macOS (techcrunch.com)\n",
      "        24 points by BSVogler 3 hours ago  | hide | 5 comments              \n",
      "      \n",
      "                \n",
      "      9.      Psychic Paper: iOS Sandbox Escape (siguza.github.io)\n",
      "        160 points by mp3il 8 hours ago  | hide | 39 comments              \n",
      "      \n",
      "                \n",
      "      10.      Operating Systems Without Systemd (annihilatormodule.com)\n",
      "        57 points by yangliwei 2 hours ago  | hide | 48 comments              \n",
      "      \n",
      "                \n",
      "      11.      SUVs parked on cargo ships reveal scope of U.S. auto market glut (bloomberg.com)\n",
      "        129 points by pseudolus 10 hours ago  | hide | 229 comments              \n",
      "      \n",
      "                \n",
      "      12.      Jepsen: Dgraph 1.1.1 (jepsen.io)\n",
      "        162 points by aphyr 11 hours ago  | hide | 59 comments              \n",
      "      \n",
      "                \n",
      "      13.      Virtual tour of the tomb of Pharaoh Ramses VI (matterport.com)\n",
      "        224 points by open-source-ux 12 hours ago  | hide | 48 comments              \n",
      "      \n",
      "                \n",
      "      14.      Web Audio API: Musically-aware scheduling and Dynamic looping (2016) (jakearchibald.com)\n",
      "        46 points by feross 5 hours ago  | hide | 8 comments              \n",
      "      \n",
      "                \n",
      "      15.      74% of Startups Have Trimmed Staff, 65% Have Less Than 6 Months of Cash (forbes.com)\n",
      "        85 points by alephnan 2 hours ago  | hide | 33 comments              \n",
      "      \n",
      "                \n",
      "      16.      Language Design: Use 'ident: Type' not 'Type ident' (soc.me)\n",
      "        72 points by pcr910303 7 hours ago  | hide | 105 comments              \n",
      "      \n",
      "                \n",
      "      17.      The weird, get-rich-quick world of dropshipping (wired.co.uk)\n",
      "        248 points by factsaresacred 14 hours ago  | hide | 192 comments              \n",
      "      \n",
      "                \n",
      "      18.      Comprehensive Tutorial on Time Series Modelling and Forecasting (kanoki.org)\n",
      "        230 points by min2bro 14 hours ago  | hide | 42 comments              \n",
      "      \n",
      "                \n",
      "      19.      Gitcoin Grants Round 5 Retrospective (vitalik.ca)\n",
      "        18 points by feross 3 hours ago  | hide | discuss              \n",
      "      \n",
      "                \n",
      "      20.      Complexity Has to Live Somewhere (ferd.ca)\n",
      "        264 points by mononcqc 15 hours ago  | hide | 129 comments              \n",
      "      \n",
      "                \n",
      "      21.      Automating Complex 3D Modeling (sandia.gov)\n",
      "        48 points by sizzle 7 hours ago  | hide | 7 comments              \n",
      "      \n",
      "                \n",
      "      22.      Physics Today is temporarily making its archive freely available (scitation.org)\n",
      "        243 points by happy-go-lucky 10 hours ago  | hide | 24 comments              \n",
      "      \n",
      "                \n",
      "      23.      Show HN: Generate a static website from any back end (sitesauce.app)\n",
      "        126 points by m1guelpf 10 hours ago  | hide | 38 comments              \n",
      "      \n",
      "                \n",
      "      24.      Repository for Open Source Mouse Firmware and Hardware (github.com)\n",
      "        130 points by justinclift 13 hours ago  | hide | 14 comments              \n",
      "      \n",
      "                \n",
      "      25.      ICANN board withholds consent for a change of control of the .org registry (icann.org)\n",
      "        1344 points by cjbprime 23 hours ago  | hide | 240 comments              \n",
      "      \n",
      "                \n",
      "      26.      How failures led to a SaaS [audio] (failory.com)\n",
      "        92 points by aledalgrande 10 hours ago  | hide | 25 comments              \n",
      "      \n",
      "                \n",
      "      27.      Gemini – A new, collaboratively designed internet protocol (circumlunar.space)\n",
      "        124 points by _emacsomancer_ 11 hours ago  | hide | 47 comments              \n",
      "      \n",
      "                \n",
      "      28.      Java Feature Spotlight: Text Blocks (infoq.com)\n",
      "        105 points by chhum 13 hours ago  | hide | 104 comments              \n",
      "      \n",
      "                \n",
      "      29.      I’ve Consed Every Pair (medium.com)\n",
      "        516 points by DonHopkins 1 day ago  | hide | 198 comments              \n",
      "      \n",
      "                \n",
      "      30.      A synthetic control causal analysis of Musk's tweet on Tesla stock price (alexpghayes.com)\n",
      "        83 points by alexpghayes 2 hours ago  | hide | 54 comments              \n",
      "      \n",
      "            More\n",
      "  \n",
      "\n",
      "Guidelines\n",
      "        | FAQ\n",
      "        | Support\n",
      "        | API\n",
      "        | Security\n",
      "        | Lists\n",
      "        | Bookmarklet\n",
      "        | Legal\n",
      "        | Apply to YC\n",
      "        | ContactSearch:\n",
      "          \n",
      "            \n",
      "      \n",
      "\n"
     ]
    }
   ],
   "source": [
    "from bs4 import BeautifulSoup\n",
    "\n",
    "# Remove HTML tags using Beautiful Soup library\n",
    "soup = BeautifulSoup(r.text, \"html5lib\")\n",
    "print(soup.get_text())"
   ]
  },
  {
   "cell_type": "code",
   "execution_count": 7,
   "metadata": {
    "scrolled": true
   },
   "outputs": [
    {
     "data": {
      "text/plain": [
       "<tr class=\"athing\" id=\"23048054\">\n",
       "      <td align=\"right\" class=\"title\" valign=\"top\"><span class=\"rank\">1.</span></td>      <td class=\"votelinks\" valign=\"top\"><center><a href=\"vote?id=23048054&amp;how=up&amp;goto=news\" id=\"up_23048054\"><div class=\"votearrow\" title=\"upvote\"></div></a></center></td><td class=\"title\"><a class=\"storylink\" href=\"https://ferd.ca/awk-in-20-minutes.html\">Awk in 20 Minutes (2015)</a><span class=\"sitebit comhead\"> (<a href=\"from?site=ferd.ca\"><span class=\"sitestr\">ferd.ca</span></a>)</span></td></tr>"
      ]
     },
     "execution_count": 7,
     "metadata": {},
     "output_type": "execute_result"
    }
   ],
   "source": [
    "# Find all articles\n",
    "summaries = soup.find_all(\"tr\", class_=\"athing\")\n",
    "summaries[0]"
   ]
  },
  {
   "cell_type": "code",
   "execution_count": 8,
   "metadata": {},
   "outputs": [
    {
     "data": {
      "text/plain": [
       "'Awk in 20 Minutes (2015)'"
      ]
     },
     "execution_count": 8,
     "metadata": {},
     "output_type": "execute_result"
    }
   ],
   "source": [
    "# Extract title\n",
    "summaries[0].find(\"a\", class_=\"storylink\").get_text().strip()"
   ]
  },
  {
   "cell_type": "code",
   "execution_count": 9,
   "metadata": {},
   "outputs": [
    {
     "name": "stdout",
     "output_type": "stream",
     "text": [
      "30 Article summaries found. Sample:\n",
      "Awk in 20 Minutes (2015)\n"
     ]
    }
   ],
   "source": [
    "# Find all articles, extract titles\n",
    "articles = []\n",
    "summaries = soup.find_all(\"tr\", class_=\"athing\")\n",
    "for summary in summaries:\n",
    "    title = summary.find(\"a\", class_=\"storylink\").get_text().strip()\n",
    "    articles.append((title))\n",
    "\n",
    "print(len(articles), \"Article summaries found. Sample:\")\n",
    "print(articles[0])"
   ]
  },
  {
   "cell_type": "markdown",
   "metadata": {
    "collapsed": true
   },
   "source": [
    "## Normalization"
   ]
  },
  {
   "cell_type": "markdown",
   "metadata": {},
   "source": [
    "### Case Normalization"
   ]
  },
  {
   "cell_type": "code",
   "execution_count": 10,
   "metadata": {},
   "outputs": [
    {
     "name": "stdout",
     "output_type": "stream",
     "text": [
      "The first time you see The Second Renaissance it may look boring. Look at it at least twice and definitely watch part 2. It will change your view of the matrix. Are the human people the ones who started the war ? Is AI a bad thing ?\n"
     ]
    }
   ],
   "source": [
    "# Sample text\n",
    "text = \"The first time you see The Second Renaissance it may look boring. Look at it at least twice and definitely watch part 2. It will change your view of the matrix. Are the human people the ones who started the war ? Is AI a bad thing ?\"\n",
    "print(text)"
   ]
  },
  {
   "cell_type": "code",
   "execution_count": 11,
   "metadata": {},
   "outputs": [
    {
     "name": "stdout",
     "output_type": "stream",
     "text": [
      "the first time you see the second renaissance it may look boring. look at it at least twice and definitely watch part 2. it will change your view of the matrix. are the human people the ones who started the war ? is ai a bad thing ?\n"
     ]
    }
   ],
   "source": [
    "# Convert to lowercase\n",
    "text = text.lower() \n",
    "print(text)"
   ]
  },
  {
   "cell_type": "markdown",
   "metadata": {},
   "source": [
    "### Punctuation Removal"
   ]
  },
  {
   "cell_type": "code",
   "execution_count": 12,
   "metadata": {},
   "outputs": [
    {
     "name": "stdout",
     "output_type": "stream",
     "text": [
      "the first time you see the second renaissance it may look boring  look at it at least twice and definitely watch part 2  it will change your view of the matrix  are the human people the ones who started the war   is ai a bad thing  \n"
     ]
    }
   ],
   "source": [
    "import re\n",
    "\n",
    "# Remove punctuation characters\n",
    "text = re.sub(r\"[^a-zA-Z0-9]\", \" \", text) \n",
    "print(text)"
   ]
  },
  {
   "cell_type": "markdown",
   "metadata": {},
   "source": [
    "## Tokenization"
   ]
  },
  {
   "cell_type": "code",
   "execution_count": 13,
   "metadata": {},
   "outputs": [
    {
     "name": "stdout",
     "output_type": "stream",
     "text": [
      "['the', 'first', 'time', 'you', 'see', 'the', 'second', 'renaissance', 'it', 'may', 'look', 'boring', 'look', 'at', 'it', 'at', 'least', 'twice', 'and', 'definitely', 'watch', 'part', '2', 'it', 'will', 'change', 'your', 'view', 'of', 'the', 'matrix', 'are', 'the', 'human', 'people', 'the', 'ones', 'who', 'started', 'the', 'war', 'is', 'ai', 'a', 'bad', 'thing']\n"
     ]
    }
   ],
   "source": [
    "# Split text into tokens (words)\n",
    "words = text.split()\n",
    "print(words)"
   ]
  },
  {
   "cell_type": "markdown",
   "metadata": {},
   "source": [
    "### NLTK: Natural Language ToolKit"
   ]
  },
  {
   "cell_type": "code",
   "execution_count": 14,
   "metadata": {},
   "outputs": [],
   "source": [
    "import os\n",
    "import nltk\n",
    "nltk.data.path.append(os.path.join(os.getcwd(), \"nltk_data\"))"
   ]
  },
  {
   "cell_type": "code",
   "execution_count": 15,
   "metadata": {},
   "outputs": [
    {
     "name": "stdout",
     "output_type": "stream",
     "text": [
      "Dr. Smith graduated from the University of Washington. He later started an analytics firm called Lux, which catered to enterprise customers.\n"
     ]
    }
   ],
   "source": [
    "# Another sample text\n",
    "text = \"Dr. Smith graduated from the University of Washington. He later started an analytics firm called Lux, which catered to enterprise customers.\"\n",
    "print(text)"
   ]
  },
  {
   "cell_type": "code",
   "execution_count": 16,
   "metadata": {},
   "outputs": [
    {
     "name": "stdout",
     "output_type": "stream",
     "text": [
      "['Dr.', 'Smith', 'graduated', 'from', 'the', 'University', 'of', 'Washington', '.', 'He', 'later', 'started', 'an', 'analytics', 'firm', 'called', 'Lux', ',', 'which', 'catered', 'to', 'enterprise', 'customers', '.']\n"
     ]
    }
   ],
   "source": [
    "from nltk.tokenize import word_tokenize\n",
    "\n",
    "# Split text into words using NLTK\n",
    "words = word_tokenize(text)\n",
    "print(words)"
   ]
  },
  {
   "cell_type": "code",
   "execution_count": 17,
   "metadata": {},
   "outputs": [
    {
     "name": "stdout",
     "output_type": "stream",
     "text": [
      "['Dr. Smith graduated from the University of Washington.', 'He later started an analytics firm called Lux, which catered to enterprise customers.']\n"
     ]
    }
   ],
   "source": [
    "from nltk.tokenize import sent_tokenize\n",
    "\n",
    "# Split text into sentences\n",
    "sentences = sent_tokenize(text)\n",
    "print(sentences)"
   ]
  },
  {
   "cell_type": "code",
   "execution_count": 18,
   "metadata": {},
   "outputs": [
    {
     "name": "stdout",
     "output_type": "stream",
     "text": [
      "['i', 'me', 'my', 'myself', 'we', 'our', 'ours', 'ourselves', 'you', \"you're\", \"you've\", \"you'll\", \"you'd\", 'your', 'yours', 'yourself', 'yourselves', 'he', 'him', 'his', 'himself', 'she', \"she's\", 'her', 'hers', 'herself', 'it', \"it's\", 'its', 'itself', 'they', 'them', 'their', 'theirs', 'themselves', 'what', 'which', 'who', 'whom', 'this', 'that', \"that'll\", 'these', 'those', 'am', 'is', 'are', 'was', 'were', 'be', 'been', 'being', 'have', 'has', 'had', 'having', 'do', 'does', 'did', 'doing', 'a', 'an', 'the', 'and', 'but', 'if', 'or', 'because', 'as', 'until', 'while', 'of', 'at', 'by', 'for', 'with', 'about', 'against', 'between', 'into', 'through', 'during', 'before', 'after', 'above', 'below', 'to', 'from', 'up', 'down', 'in', 'out', 'on', 'off', 'over', 'under', 'again', 'further', 'then', 'once', 'here', 'there', 'when', 'where', 'why', 'how', 'all', 'any', 'both', 'each', 'few', 'more', 'most', 'other', 'some', 'such', 'no', 'nor', 'not', 'only', 'own', 'same', 'so', 'than', 'too', 'very', 's', 't', 'can', 'will', 'just', 'don', \"don't\", 'should', \"should've\", 'now', 'd', 'll', 'm', 'o', 're', 've', 'y', 'ain', 'aren', \"aren't\", 'couldn', \"couldn't\", 'didn', \"didn't\", 'doesn', \"doesn't\", 'hadn', \"hadn't\", 'hasn', \"hasn't\", 'haven', \"haven't\", 'isn', \"isn't\", 'ma', 'mightn', \"mightn't\", 'mustn', \"mustn't\", 'needn', \"needn't\", 'shan', \"shan't\", 'shouldn', \"shouldn't\", 'wasn', \"wasn't\", 'weren', \"weren't\", 'won', \"won't\", 'wouldn', \"wouldn't\"]\n"
     ]
    }
   ],
   "source": [
    "# List stop words\n",
    "from nltk.corpus import stopwords\n",
    "print(stopwords.words(\"english\"))"
   ]
  },
  {
   "cell_type": "code",
   "execution_count": 19,
   "metadata": {},
   "outputs": [
    {
     "name": "stdout",
     "output_type": "stream",
     "text": [
      "['the', 'first', 'time', 'you', 'see', 'the', 'second', 'renaissance', 'it', 'may', 'look', 'boring', 'look', 'at', 'it', 'at', 'least', 'twice', 'and', 'definitely', 'watch', 'part', '2', 'it', 'will', 'change', 'your', 'view', 'of', 'the', 'matrix', 'are', 'the', 'human', 'people', 'the', 'ones', 'who', 'started', 'the', 'war', 'is', 'ai', 'a', 'bad', 'thing']\n"
     ]
    }
   ],
   "source": [
    "# Reset text\n",
    "text = \"The first time you see The Second Renaissance it may look boring. Look at it at least twice and definitely watch part 2. It will change your view of the matrix. Are the human people the ones who started the war ? Is AI a bad thing ?\"\n",
    "\n",
    "# Normalize it\n",
    "text = re.sub(r\"[^a-zA-Z0-9]\", \" \", text.lower())\n",
    "\n",
    "# Tokenize it\n",
    "words = text.split()\n",
    "print(words)"
   ]
  },
  {
   "cell_type": "code",
   "execution_count": 20,
   "metadata": {},
   "outputs": [
    {
     "name": "stdout",
     "output_type": "stream",
     "text": [
      "['first', 'time', 'see', 'second', 'renaissance', 'may', 'look', 'boring', 'look', 'least', 'twice', 'definitely', 'watch', 'part', '2', 'change', 'view', 'matrix', 'human', 'people', 'ones', 'started', 'war', 'ai', 'bad', 'thing']\n"
     ]
    }
   ],
   "source": [
    "# Remove stop words\n",
    "words = [w for w in words if w not in stopwords.words(\"english\")]\n",
    "print(words)"
   ]
  },
  {
   "cell_type": "markdown",
   "metadata": {},
   "source": [
    "### Sentence Parsing"
   ]
  },
  {
   "cell_type": "code",
   "execution_count": 21,
   "metadata": {},
   "outputs": [
    {
     "name": "stdout",
     "output_type": "stream",
     "text": [
      "(S\n",
      "  (NP I)\n",
      "  (VP\n",
      "    (VP (V shot) (NP (Det an) (N elephant)))\n",
      "    (PP (P in) (NP (Det my) (N pajamas)))))\n",
      "(S\n",
      "  (NP I)\n",
      "  (VP\n",
      "    (V shot)\n",
      "    (NP (Det an) (N elephant) (PP (P in) (NP (Det my) (N pajamas))))))\n"
     ]
    }
   ],
   "source": [
    "import nltk\n",
    "\n",
    "# Define a custom grammar\n",
    "my_grammar = nltk.CFG.fromstring(\"\"\"\n",
    "S -> NP VP\n",
    "PP -> P NP\n",
    "NP -> Det N | Det N PP | 'I'\n",
    "VP -> V NP | VP PP\n",
    "Det -> 'an' | 'my'\n",
    "N -> 'elephant' | 'pajamas'\n",
    "V -> 'shot'\n",
    "P -> 'in'\n",
    "\"\"\")\n",
    "parser = nltk.ChartParser(my_grammar)\n",
    "\n",
    "# Parse a sentence\n",
    "sentence = word_tokenize(\"I shot an elephant in my pajamas\")\n",
    "for tree in parser.parse(sentence):\n",
    "    print(tree)"
   ]
  },
  {
   "cell_type": "markdown",
   "metadata": {},
   "source": [
    "## Stemming & Lemmatization\n",
    "\n",
    "### Stemming"
   ]
  },
  {
   "cell_type": "code",
   "execution_count": 22,
   "metadata": {},
   "outputs": [
    {
     "name": "stdout",
     "output_type": "stream",
     "text": [
      "['first', 'time', 'see', 'second', 'renaiss', 'may', 'look', 'bore', 'look', 'least', 'twice', 'definit', 'watch', 'part', '2', 'chang', 'view', 'matrix', 'human', 'peopl', 'one', 'start', 'war', 'ai', 'bad', 'thing']\n"
     ]
    }
   ],
   "source": [
    "from nltk.stem.porter import PorterStemmer\n",
    "\n",
    "# Reduce words to their stems\n",
    "stemmed = [PorterStemmer().stem(w) for w in words]\n",
    "print(stemmed)"
   ]
  },
  {
   "cell_type": "markdown",
   "metadata": {},
   "source": [
    "### Lemmatization"
   ]
  },
  {
   "cell_type": "code",
   "execution_count": 23,
   "metadata": {},
   "outputs": [
    {
     "name": "stdout",
     "output_type": "stream",
     "text": [
      "['first', 'time', 'see', 'second', 'renaissance', 'may', 'look', 'boring', 'look', 'least', 'twice', 'definitely', 'watch', 'part', '2', 'change', 'view', 'matrix', 'human', 'people', 'one', 'started', 'war', 'ai', 'bad', 'thing']\n"
     ]
    }
   ],
   "source": [
    "from nltk.stem.wordnet import WordNetLemmatizer\n",
    "\n",
    "# Reduce words to their root form\n",
    "lemmed = [WordNetLemmatizer().lemmatize(w) for w in words]\n",
    "print(lemmed)"
   ]
  },
  {
   "cell_type": "code",
   "execution_count": 24,
   "metadata": {},
   "outputs": [
    {
     "name": "stdout",
     "output_type": "stream",
     "text": [
      "['first', 'time', 'see', 'second', 'renaissance', 'may', 'look', 'bore', 'look', 'least', 'twice', 'definitely', 'watch', 'part', '2', 'change', 'view', 'matrix', 'human', 'people', 'one', 'start', 'war', 'ai', 'bad', 'thing']\n"
     ]
    }
   ],
   "source": [
    "# Lemmatize verbs by specifying pos\n",
    "lemmed = [WordNetLemmatizer().lemmatize(w, pos='v') for w in lemmed]\n",
    "print(lemmed)"
   ]
  },
  {
   "cell_type": "code",
   "execution_count": null,
   "metadata": {},
   "outputs": [],
   "source": []
  }
 ],
 "metadata": {
  "kernelspec": {
   "display_name": "Python 3",
   "language": "python",
   "name": "python3"
  },
  "language_info": {
   "codemirror_mode": {
    "name": "ipython",
    "version": 3
   },
   "file_extension": ".py",
   "mimetype": "text/x-python",
   "name": "python",
   "nbconvert_exporter": "python",
   "pygments_lexer": "ipython3",
   "version": "3.6.3"
  }
 },
 "nbformat": 4,
 "nbformat_minor": 2
}
